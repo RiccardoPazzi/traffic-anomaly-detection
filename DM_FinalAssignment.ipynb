{
  "nbformat": 4,
  "nbformat_minor": 0,
  "metadata": {
    "colab": {
      "provenance": []
    },
    "kernelspec": {
      "name": "python3",
      "display_name": "Python 3"
    },
    "language_info": {
      "name": "python"
    }
  },
  "cells": [
    {
      "cell_type": "markdown",
      "source": [
        "##Anomaly detection project\n",
        "**Author: Riccardo Pazzi**"
      ],
      "metadata": {
        "id": "40ZOf-YzQLqS"
      }
    },
    {
      "cell_type": "code",
      "source": [
        "!pip install --upgrade scipy networkx "
      ],
      "metadata": {
        "colab": {
          "base_uri": "https://localhost:8080/"
        },
        "id": "sQKBVyskjQZQ",
        "outputId": "4cfdbb4a-f719-487a-83e0-4a6166891eae"
      },
      "execution_count": null,
      "outputs": [
        {
          "output_type": "stream",
          "name": "stdout",
          "text": [
            "Looking in indexes: https://pypi.org/simple, https://us-python.pkg.dev/colab-wheels/public/simple/\n",
            "Requirement already satisfied: scipy in /usr/local/lib/python3.8/dist-packages (1.7.3)\n",
            "Collecting scipy\n",
            "  Downloading scipy-1.10.0-cp38-cp38-manylinux_2_17_x86_64.manylinux2014_x86_64.whl (34.5 MB)\n",
            "\u001b[2K     \u001b[90m━━━━━━━━━━━━━━━━━━━━━━━━━━━━━━━━━━━━━━━━\u001b[0m \u001b[32m34.5/34.5 MB\u001b[0m \u001b[31m20.1 MB/s\u001b[0m eta \u001b[36m0:00:00\u001b[0m\n",
            "\u001b[?25hRequirement already satisfied: networkx in /usr/local/lib/python3.8/dist-packages (3.0)\n",
            "Requirement already satisfied: numpy<1.27.0,>=1.19.5 in /usr/local/lib/python3.8/dist-packages (from scipy) (1.21.6)\n",
            "Installing collected packages: scipy\n",
            "  Attempting uninstall: scipy\n",
            "    Found existing installation: scipy 1.7.3\n",
            "    Uninstalling scipy-1.7.3:\n",
            "      Successfully uninstalled scipy-1.7.3\n",
            "Successfully installed scipy-1.10.0\n"
          ]
        }
      ]
    },
    {
      "cell_type": "code",
      "source": [],
      "metadata": {
        "id": "SFq_Z0CVjZZ-"
      },
      "execution_count": null,
      "outputs": []
    },
    {
      "cell_type": "code",
      "source": [
        "import networkx as nx\n",
        "from sklearn import svm\n",
        "import pandas as pd\n",
        "import matplotlib.pyplot as plt\n",
        "import numpy as np\n",
        "import pydot\n",
        "from networkx.drawing.nx_pydot import graphviz_layout\n",
        "import scipy"
      ],
      "metadata": {
        "id": "WMLa34TKQtks"
      },
      "execution_count": null,
      "outputs": []
    },
    {
      "cell_type": "markdown",
      "source": [
        "First let's import the labeled and unlabeled data"
      ],
      "metadata": {
        "id": "q99lrm5nQYZh"
      }
    },
    {
      "cell_type": "code",
      "execution_count": null,
      "metadata": {
        "id": "I_aDiECBQG9o"
      },
      "outputs": [],
      "source": [
        "annotated_df = pd.read_csv(\"annotated-trace.csv\", names=[\"src_IP\", \"dest_IP\", \"service\", \"src_port\", \"dest_port\" ,\"target\"])\n",
        "test_df = pd.read_csv(\"not-annotated-trace.csv\", names=[\"src_IP\", \"dest_IP\", \"service\", \"src_port\", \"dest_port\"])"
      ]
    },
    {
      "cell_type": "code",
      "source": [
        "# Keep a dataframe with only normal actions\n",
        "annotated_baseline_df = annotated_df[annotated_df.target == \"normal\"]\n",
        "annotated_anomaly_df = annotated_df[annotated_df.target != \"normal\"]\n",
        "\n",
        "# keep a subset of original samples for computational reasons\n",
        "input_df = pd.concat([annotated_baseline_df.iloc[:150,:], annotated_anomaly_df.iloc[:50,:]], axis=0)\n",
        "big_input_df = pd.concat([annotated_baseline_df.iloc[:1000,:], annotated_anomaly_df.iloc[:50,:]], axis=0)\n",
        "validation_df = pd.concat([annotated_baseline_df.iloc[150:200,:], annotated_anomaly_df.iloc[50:,:]], axis=0)\n",
        "big_validation_df = pd.concat([annotated_baseline_df.iloc[1000:1200,:], annotated_anomaly_df.iloc[50:,:]], axis=0)\n",
        "input_df.head()"
      ],
      "metadata": {
        "colab": {
          "base_uri": "https://localhost:8080/",
          "height": 206
        },
        "id": "-fRMak_zSkKR",
        "outputId": "7b983ea7-4051-4d7d-a485-ad831ec6daf5"
      },
      "execution_count": null,
      "outputs": [
        {
          "output_type": "execute_result",
          "data": {
            "text/plain": [
              "   src_IP  dest_IP  service  src_port  dest_port  target\n",
              "0     742      281       17        53         22  normal\n",
              "1     241      591        6        53         53  normal\n",
              "2     537      732       17        23         22  normal\n",
              "3     247      200        6        20         23  normal\n",
              "4     483      845        1        53         23  normal"
            ],
            "text/html": [
              "\n",
              "  <div id=\"df-b66be04d-41c7-4de5-8244-bb7bcadbcc04\">\n",
              "    <div class=\"colab-df-container\">\n",
              "      <div>\n",
              "<style scoped>\n",
              "    .dataframe tbody tr th:only-of-type {\n",
              "        vertical-align: middle;\n",
              "    }\n",
              "\n",
              "    .dataframe tbody tr th {\n",
              "        vertical-align: top;\n",
              "    }\n",
              "\n",
              "    .dataframe thead th {\n",
              "        text-align: right;\n",
              "    }\n",
              "</style>\n",
              "<table border=\"1\" class=\"dataframe\">\n",
              "  <thead>\n",
              "    <tr style=\"text-align: right;\">\n",
              "      <th></th>\n",
              "      <th>src_IP</th>\n",
              "      <th>dest_IP</th>\n",
              "      <th>service</th>\n",
              "      <th>src_port</th>\n",
              "      <th>dest_port</th>\n",
              "      <th>target</th>\n",
              "    </tr>\n",
              "  </thead>\n",
              "  <tbody>\n",
              "    <tr>\n",
              "      <th>0</th>\n",
              "      <td>742</td>\n",
              "      <td>281</td>\n",
              "      <td>17</td>\n",
              "      <td>53</td>\n",
              "      <td>22</td>\n",
              "      <td>normal</td>\n",
              "    </tr>\n",
              "    <tr>\n",
              "      <th>1</th>\n",
              "      <td>241</td>\n",
              "      <td>591</td>\n",
              "      <td>6</td>\n",
              "      <td>53</td>\n",
              "      <td>53</td>\n",
              "      <td>normal</td>\n",
              "    </tr>\n",
              "    <tr>\n",
              "      <th>2</th>\n",
              "      <td>537</td>\n",
              "      <td>732</td>\n",
              "      <td>17</td>\n",
              "      <td>23</td>\n",
              "      <td>22</td>\n",
              "      <td>normal</td>\n",
              "    </tr>\n",
              "    <tr>\n",
              "      <th>3</th>\n",
              "      <td>247</td>\n",
              "      <td>200</td>\n",
              "      <td>6</td>\n",
              "      <td>20</td>\n",
              "      <td>23</td>\n",
              "      <td>normal</td>\n",
              "    </tr>\n",
              "    <tr>\n",
              "      <th>4</th>\n",
              "      <td>483</td>\n",
              "      <td>845</td>\n",
              "      <td>1</td>\n",
              "      <td>53</td>\n",
              "      <td>23</td>\n",
              "      <td>normal</td>\n",
              "    </tr>\n",
              "  </tbody>\n",
              "</table>\n",
              "</div>\n",
              "      <button class=\"colab-df-convert\" onclick=\"convertToInteractive('df-b66be04d-41c7-4de5-8244-bb7bcadbcc04')\"\n",
              "              title=\"Convert this dataframe to an interactive table.\"\n",
              "              style=\"display:none;\">\n",
              "        \n",
              "  <svg xmlns=\"http://www.w3.org/2000/svg\" height=\"24px\"viewBox=\"0 0 24 24\"\n",
              "       width=\"24px\">\n",
              "    <path d=\"M0 0h24v24H0V0z\" fill=\"none\"/>\n",
              "    <path d=\"M18.56 5.44l.94 2.06.94-2.06 2.06-.94-2.06-.94-.94-2.06-.94 2.06-2.06.94zm-11 1L8.5 8.5l.94-2.06 2.06-.94-2.06-.94L8.5 2.5l-.94 2.06-2.06.94zm10 10l.94 2.06.94-2.06 2.06-.94-2.06-.94-.94-2.06-.94 2.06-2.06.94z\"/><path d=\"M17.41 7.96l-1.37-1.37c-.4-.4-.92-.59-1.43-.59-.52 0-1.04.2-1.43.59L10.3 9.45l-7.72 7.72c-.78.78-.78 2.05 0 2.83L4 21.41c.39.39.9.59 1.41.59.51 0 1.02-.2 1.41-.59l7.78-7.78 2.81-2.81c.8-.78.8-2.07 0-2.86zM5.41 20L4 18.59l7.72-7.72 1.47 1.35L5.41 20z\"/>\n",
              "  </svg>\n",
              "      </button>\n",
              "      \n",
              "  <style>\n",
              "    .colab-df-container {\n",
              "      display:flex;\n",
              "      flex-wrap:wrap;\n",
              "      gap: 12px;\n",
              "    }\n",
              "\n",
              "    .colab-df-convert {\n",
              "      background-color: #E8F0FE;\n",
              "      border: none;\n",
              "      border-radius: 50%;\n",
              "      cursor: pointer;\n",
              "      display: none;\n",
              "      fill: #1967D2;\n",
              "      height: 32px;\n",
              "      padding: 0 0 0 0;\n",
              "      width: 32px;\n",
              "    }\n",
              "\n",
              "    .colab-df-convert:hover {\n",
              "      background-color: #E2EBFA;\n",
              "      box-shadow: 0px 1px 2px rgba(60, 64, 67, 0.3), 0px 1px 3px 1px rgba(60, 64, 67, 0.15);\n",
              "      fill: #174EA6;\n",
              "    }\n",
              "\n",
              "    [theme=dark] .colab-df-convert {\n",
              "      background-color: #3B4455;\n",
              "      fill: #D2E3FC;\n",
              "    }\n",
              "\n",
              "    [theme=dark] .colab-df-convert:hover {\n",
              "      background-color: #434B5C;\n",
              "      box-shadow: 0px 1px 3px 1px rgba(0, 0, 0, 0.15);\n",
              "      filter: drop-shadow(0px 1px 2px rgba(0, 0, 0, 0.3));\n",
              "      fill: #FFFFFF;\n",
              "    }\n",
              "  </style>\n",
              "\n",
              "      <script>\n",
              "        const buttonEl =\n",
              "          document.querySelector('#df-b66be04d-41c7-4de5-8244-bb7bcadbcc04 button.colab-df-convert');\n",
              "        buttonEl.style.display =\n",
              "          google.colab.kernel.accessAllowed ? 'block' : 'none';\n",
              "\n",
              "        async function convertToInteractive(key) {\n",
              "          const element = document.querySelector('#df-b66be04d-41c7-4de5-8244-bb7bcadbcc04');\n",
              "          const dataTable =\n",
              "            await google.colab.kernel.invokeFunction('convertToInteractive',\n",
              "                                                     [key], {});\n",
              "          if (!dataTable) return;\n",
              "\n",
              "          const docLinkHtml = 'Like what you see? Visit the ' +\n",
              "            '<a target=\"_blank\" href=https://colab.research.google.com/notebooks/data_table.ipynb>data table notebook</a>'\n",
              "            + ' to learn more about interactive tables.';\n",
              "          element.innerHTML = '';\n",
              "          dataTable['output_type'] = 'display_data';\n",
              "          await google.colab.output.renderOutput(dataTable, element);\n",
              "          const docLink = document.createElement('div');\n",
              "          docLink.innerHTML = docLinkHtml;\n",
              "          element.appendChild(docLink);\n",
              "        }\n",
              "      </script>\n",
              "    </div>\n",
              "  </div>\n",
              "  "
            ]
          },
          "metadata": {},
          "execution_count": 26
        }
      ]
    },
    {
      "cell_type": "code",
      "source": [
        "validation_df"
      ],
      "metadata": {
        "colab": {
          "base_uri": "https://localhost:8080/",
          "height": 424
        },
        "id": "SJb0pQo4SlNY",
        "outputId": "26791419-483b-4955-a6d0-fb2f4874946b"
      },
      "execution_count": null,
      "outputs": [
        {
          "output_type": "execute_result",
          "data": {
            "text/plain": [
              "      src_IP  dest_IP  service  src_port  dest_port   target\n",
              "150       27      329        6        80         68   normal\n",
              "151      744      564        6        25         53   normal\n",
              "152      657      110        1        53         53   normal\n",
              "153      118      656        6        80         25   normal\n",
              "154      800      122       17        22         25   normal\n",
              "...      ...      ...      ...       ...        ...      ...\n",
              "9650     669        7       17        22         20  anomaly\n",
              "9652     293        7       17        20         20  anomaly\n",
              "9731     344      821        6        25         66  anomaly\n",
              "9988     882        7       17        25         20  anomaly\n",
              "9990    1935      878        6        53         80  anomaly\n",
              "\n",
              "[70 rows x 6 columns]"
            ],
            "text/html": [
              "\n",
              "  <div id=\"df-53127b55-0f8f-4150-849e-b03e6b1ff42f\">\n",
              "    <div class=\"colab-df-container\">\n",
              "      <div>\n",
              "<style scoped>\n",
              "    .dataframe tbody tr th:only-of-type {\n",
              "        vertical-align: middle;\n",
              "    }\n",
              "\n",
              "    .dataframe tbody tr th {\n",
              "        vertical-align: top;\n",
              "    }\n",
              "\n",
              "    .dataframe thead th {\n",
              "        text-align: right;\n",
              "    }\n",
              "</style>\n",
              "<table border=\"1\" class=\"dataframe\">\n",
              "  <thead>\n",
              "    <tr style=\"text-align: right;\">\n",
              "      <th></th>\n",
              "      <th>src_IP</th>\n",
              "      <th>dest_IP</th>\n",
              "      <th>service</th>\n",
              "      <th>src_port</th>\n",
              "      <th>dest_port</th>\n",
              "      <th>target</th>\n",
              "    </tr>\n",
              "  </thead>\n",
              "  <tbody>\n",
              "    <tr>\n",
              "      <th>150</th>\n",
              "      <td>27</td>\n",
              "      <td>329</td>\n",
              "      <td>6</td>\n",
              "      <td>80</td>\n",
              "      <td>68</td>\n",
              "      <td>normal</td>\n",
              "    </tr>\n",
              "    <tr>\n",
              "      <th>151</th>\n",
              "      <td>744</td>\n",
              "      <td>564</td>\n",
              "      <td>6</td>\n",
              "      <td>25</td>\n",
              "      <td>53</td>\n",
              "      <td>normal</td>\n",
              "    </tr>\n",
              "    <tr>\n",
              "      <th>152</th>\n",
              "      <td>657</td>\n",
              "      <td>110</td>\n",
              "      <td>1</td>\n",
              "      <td>53</td>\n",
              "      <td>53</td>\n",
              "      <td>normal</td>\n",
              "    </tr>\n",
              "    <tr>\n",
              "      <th>153</th>\n",
              "      <td>118</td>\n",
              "      <td>656</td>\n",
              "      <td>6</td>\n",
              "      <td>80</td>\n",
              "      <td>25</td>\n",
              "      <td>normal</td>\n",
              "    </tr>\n",
              "    <tr>\n",
              "      <th>154</th>\n",
              "      <td>800</td>\n",
              "      <td>122</td>\n",
              "      <td>17</td>\n",
              "      <td>22</td>\n",
              "      <td>25</td>\n",
              "      <td>normal</td>\n",
              "    </tr>\n",
              "    <tr>\n",
              "      <th>...</th>\n",
              "      <td>...</td>\n",
              "      <td>...</td>\n",
              "      <td>...</td>\n",
              "      <td>...</td>\n",
              "      <td>...</td>\n",
              "      <td>...</td>\n",
              "    </tr>\n",
              "    <tr>\n",
              "      <th>9650</th>\n",
              "      <td>669</td>\n",
              "      <td>7</td>\n",
              "      <td>17</td>\n",
              "      <td>22</td>\n",
              "      <td>20</td>\n",
              "      <td>anomaly</td>\n",
              "    </tr>\n",
              "    <tr>\n",
              "      <th>9652</th>\n",
              "      <td>293</td>\n",
              "      <td>7</td>\n",
              "      <td>17</td>\n",
              "      <td>20</td>\n",
              "      <td>20</td>\n",
              "      <td>anomaly</td>\n",
              "    </tr>\n",
              "    <tr>\n",
              "      <th>9731</th>\n",
              "      <td>344</td>\n",
              "      <td>821</td>\n",
              "      <td>6</td>\n",
              "      <td>25</td>\n",
              "      <td>66</td>\n",
              "      <td>anomaly</td>\n",
              "    </tr>\n",
              "    <tr>\n",
              "      <th>9988</th>\n",
              "      <td>882</td>\n",
              "      <td>7</td>\n",
              "      <td>17</td>\n",
              "      <td>25</td>\n",
              "      <td>20</td>\n",
              "      <td>anomaly</td>\n",
              "    </tr>\n",
              "    <tr>\n",
              "      <th>9990</th>\n",
              "      <td>1935</td>\n",
              "      <td>878</td>\n",
              "      <td>6</td>\n",
              "      <td>53</td>\n",
              "      <td>80</td>\n",
              "      <td>anomaly</td>\n",
              "    </tr>\n",
              "  </tbody>\n",
              "</table>\n",
              "<p>70 rows × 6 columns</p>\n",
              "</div>\n",
              "      <button class=\"colab-df-convert\" onclick=\"convertToInteractive('df-53127b55-0f8f-4150-849e-b03e6b1ff42f')\"\n",
              "              title=\"Convert this dataframe to an interactive table.\"\n",
              "              style=\"display:none;\">\n",
              "        \n",
              "  <svg xmlns=\"http://www.w3.org/2000/svg\" height=\"24px\"viewBox=\"0 0 24 24\"\n",
              "       width=\"24px\">\n",
              "    <path d=\"M0 0h24v24H0V0z\" fill=\"none\"/>\n",
              "    <path d=\"M18.56 5.44l.94 2.06.94-2.06 2.06-.94-2.06-.94-.94-2.06-.94 2.06-2.06.94zm-11 1L8.5 8.5l.94-2.06 2.06-.94-2.06-.94L8.5 2.5l-.94 2.06-2.06.94zm10 10l.94 2.06.94-2.06 2.06-.94-2.06-.94-.94-2.06-.94 2.06-2.06.94z\"/><path d=\"M17.41 7.96l-1.37-1.37c-.4-.4-.92-.59-1.43-.59-.52 0-1.04.2-1.43.59L10.3 9.45l-7.72 7.72c-.78.78-.78 2.05 0 2.83L4 21.41c.39.39.9.59 1.41.59.51 0 1.02-.2 1.41-.59l7.78-7.78 2.81-2.81c.8-.78.8-2.07 0-2.86zM5.41 20L4 18.59l7.72-7.72 1.47 1.35L5.41 20z\"/>\n",
              "  </svg>\n",
              "      </button>\n",
              "      \n",
              "  <style>\n",
              "    .colab-df-container {\n",
              "      display:flex;\n",
              "      flex-wrap:wrap;\n",
              "      gap: 12px;\n",
              "    }\n",
              "\n",
              "    .colab-df-convert {\n",
              "      background-color: #E8F0FE;\n",
              "      border: none;\n",
              "      border-radius: 50%;\n",
              "      cursor: pointer;\n",
              "      display: none;\n",
              "      fill: #1967D2;\n",
              "      height: 32px;\n",
              "      padding: 0 0 0 0;\n",
              "      width: 32px;\n",
              "    }\n",
              "\n",
              "    .colab-df-convert:hover {\n",
              "      background-color: #E2EBFA;\n",
              "      box-shadow: 0px 1px 2px rgba(60, 64, 67, 0.3), 0px 1px 3px 1px rgba(60, 64, 67, 0.15);\n",
              "      fill: #174EA6;\n",
              "    }\n",
              "\n",
              "    [theme=dark] .colab-df-convert {\n",
              "      background-color: #3B4455;\n",
              "      fill: #D2E3FC;\n",
              "    }\n",
              "\n",
              "    [theme=dark] .colab-df-convert:hover {\n",
              "      background-color: #434B5C;\n",
              "      box-shadow: 0px 1px 3px 1px rgba(0, 0, 0, 0.15);\n",
              "      filter: drop-shadow(0px 1px 2px rgba(0, 0, 0, 0.3));\n",
              "      fill: #FFFFFF;\n",
              "    }\n",
              "  </style>\n",
              "\n",
              "      <script>\n",
              "        const buttonEl =\n",
              "          document.querySelector('#df-53127b55-0f8f-4150-849e-b03e6b1ff42f button.colab-df-convert');\n",
              "        buttonEl.style.display =\n",
              "          google.colab.kernel.accessAllowed ? 'block' : 'none';\n",
              "\n",
              "        async function convertToInteractive(key) {\n",
              "          const element = document.querySelector('#df-53127b55-0f8f-4150-849e-b03e6b1ff42f');\n",
              "          const dataTable =\n",
              "            await google.colab.kernel.invokeFunction('convertToInteractive',\n",
              "                                                     [key], {});\n",
              "          if (!dataTable) return;\n",
              "\n",
              "          const docLinkHtml = 'Like what you see? Visit the ' +\n",
              "            '<a target=\"_blank\" href=https://colab.research.google.com/notebooks/data_table.ipynb>data table notebook</a>'\n",
              "            + ' to learn more about interactive tables.';\n",
              "          element.innerHTML = '';\n",
              "          dataTable['output_type'] = 'display_data';\n",
              "          await google.colab.output.renderOutput(dataTable, element);\n",
              "          const docLink = document.createElement('div');\n",
              "          docLink.innerHTML = docLinkHtml;\n",
              "          element.appendChild(docLink);\n",
              "        }\n",
              "      </script>\n",
              "    </div>\n",
              "  </div>\n",
              "  "
            ]
          },
          "metadata": {},
          "execution_count": 5
        }
      ]
    },
    {
      "cell_type": "markdown",
      "source": [
        "In the next part the graphlet will be created starting from a list of network flows"
      ],
      "metadata": {
        "id": "XgG2DJRnQdbS"
      }
    },
    {
      "cell_type": "code",
      "source": [
        "# Given flows with the same source IP returns graphlet\n",
        "# Could convert service numbers to meaningful strings\n",
        "def create_graphlet(list_of_flows, dense=False):\n",
        "  # Create directed graph\n",
        "  G = nx.DiGraph()\n",
        "  for index, flow_tuple in list_of_flows.iterrows():\n",
        "    G.add_edge(\"s\" + str(flow_tuple['src_IP']), flow_tuple['service'])\n",
        "    G.add_edge(flow_tuple['service'], \"d\" + str(flow_tuple['dest_IP']))\n",
        "    G.add_edge(\"d\" + str(flow_tuple['dest_IP']), \"pf\" + str(flow_tuple['src_port']))\n",
        "    G.add_edge(\"pf\" + str(flow_tuple['src_port']), \"pt\" + str(flow_tuple['dest_port']))\n",
        "    G.add_edge(\"pt\" + str(flow_tuple['dest_port']), \"df\" + str(flow_tuple['dest_IP']))\n",
        "  if dense:\n",
        "    return G\n",
        "  # Keep only profile, remove nodes with in and out degree = 1\n",
        "  for node in list(G):\n",
        "    if G.in_degree(node) <= 1 and G.out_degree(node) <= 1:\n",
        "      G.remove_node(node)\n",
        "  return G"
      ],
      "metadata": {
        "id": "krzHlvvRSp89"
      },
      "execution_count": null,
      "outputs": []
    },
    {
      "cell_type": "code",
      "source": [
        "# Test graph creation function\n",
        "grouped_df = annotated_baseline_df.groupby(by=\"src_IP\")\n",
        "grouped_df.get_group(16).head()"
      ],
      "metadata": {
        "colab": {
          "base_uri": "https://localhost:8080/",
          "height": 206
        },
        "id": "VrTlbqYnXdrG",
        "outputId": "05011c44-390b-4ecf-e507-20db3a0c8718"
      },
      "execution_count": null,
      "outputs": [
        {
          "output_type": "execute_result",
          "data": {
            "text/plain": [
              "      src_IP  dest_IP  service  src_port  dest_port  target\n",
              "95        16      265        6        53         22  normal\n",
              "2855      16       41        6        22         22  normal\n",
              "3977      16      341       17       443         80  normal\n",
              "4179      16       81       17        22         53  normal\n",
              "5095      16       15       17        80         79  normal"
            ],
            "text/html": [
              "\n",
              "  <div id=\"df-3487c1ef-3483-4574-b321-e5661f9385d2\">\n",
              "    <div class=\"colab-df-container\">\n",
              "      <div>\n",
              "<style scoped>\n",
              "    .dataframe tbody tr th:only-of-type {\n",
              "        vertical-align: middle;\n",
              "    }\n",
              "\n",
              "    .dataframe tbody tr th {\n",
              "        vertical-align: top;\n",
              "    }\n",
              "\n",
              "    .dataframe thead th {\n",
              "        text-align: right;\n",
              "    }\n",
              "</style>\n",
              "<table border=\"1\" class=\"dataframe\">\n",
              "  <thead>\n",
              "    <tr style=\"text-align: right;\">\n",
              "      <th></th>\n",
              "      <th>src_IP</th>\n",
              "      <th>dest_IP</th>\n",
              "      <th>service</th>\n",
              "      <th>src_port</th>\n",
              "      <th>dest_port</th>\n",
              "      <th>target</th>\n",
              "    </tr>\n",
              "  </thead>\n",
              "  <tbody>\n",
              "    <tr>\n",
              "      <th>95</th>\n",
              "      <td>16</td>\n",
              "      <td>265</td>\n",
              "      <td>6</td>\n",
              "      <td>53</td>\n",
              "      <td>22</td>\n",
              "      <td>normal</td>\n",
              "    </tr>\n",
              "    <tr>\n",
              "      <th>2855</th>\n",
              "      <td>16</td>\n",
              "      <td>41</td>\n",
              "      <td>6</td>\n",
              "      <td>22</td>\n",
              "      <td>22</td>\n",
              "      <td>normal</td>\n",
              "    </tr>\n",
              "    <tr>\n",
              "      <th>3977</th>\n",
              "      <td>16</td>\n",
              "      <td>341</td>\n",
              "      <td>17</td>\n",
              "      <td>443</td>\n",
              "      <td>80</td>\n",
              "      <td>normal</td>\n",
              "    </tr>\n",
              "    <tr>\n",
              "      <th>4179</th>\n",
              "      <td>16</td>\n",
              "      <td>81</td>\n",
              "      <td>17</td>\n",
              "      <td>22</td>\n",
              "      <td>53</td>\n",
              "      <td>normal</td>\n",
              "    </tr>\n",
              "    <tr>\n",
              "      <th>5095</th>\n",
              "      <td>16</td>\n",
              "      <td>15</td>\n",
              "      <td>17</td>\n",
              "      <td>80</td>\n",
              "      <td>79</td>\n",
              "      <td>normal</td>\n",
              "    </tr>\n",
              "  </tbody>\n",
              "</table>\n",
              "</div>\n",
              "      <button class=\"colab-df-convert\" onclick=\"convertToInteractive('df-3487c1ef-3483-4574-b321-e5661f9385d2')\"\n",
              "              title=\"Convert this dataframe to an interactive table.\"\n",
              "              style=\"display:none;\">\n",
              "        \n",
              "  <svg xmlns=\"http://www.w3.org/2000/svg\" height=\"24px\"viewBox=\"0 0 24 24\"\n",
              "       width=\"24px\">\n",
              "    <path d=\"M0 0h24v24H0V0z\" fill=\"none\"/>\n",
              "    <path d=\"M18.56 5.44l.94 2.06.94-2.06 2.06-.94-2.06-.94-.94-2.06-.94 2.06-2.06.94zm-11 1L8.5 8.5l.94-2.06 2.06-.94-2.06-.94L8.5 2.5l-.94 2.06-2.06.94zm10 10l.94 2.06.94-2.06 2.06-.94-2.06-.94-.94-2.06-.94 2.06-2.06.94z\"/><path d=\"M17.41 7.96l-1.37-1.37c-.4-.4-.92-.59-1.43-.59-.52 0-1.04.2-1.43.59L10.3 9.45l-7.72 7.72c-.78.78-.78 2.05 0 2.83L4 21.41c.39.39.9.59 1.41.59.51 0 1.02-.2 1.41-.59l7.78-7.78 2.81-2.81c.8-.78.8-2.07 0-2.86zM5.41 20L4 18.59l7.72-7.72 1.47 1.35L5.41 20z\"/>\n",
              "  </svg>\n",
              "      </button>\n",
              "      \n",
              "  <style>\n",
              "    .colab-df-container {\n",
              "      display:flex;\n",
              "      flex-wrap:wrap;\n",
              "      gap: 12px;\n",
              "    }\n",
              "\n",
              "    .colab-df-convert {\n",
              "      background-color: #E8F0FE;\n",
              "      border: none;\n",
              "      border-radius: 50%;\n",
              "      cursor: pointer;\n",
              "      display: none;\n",
              "      fill: #1967D2;\n",
              "      height: 32px;\n",
              "      padding: 0 0 0 0;\n",
              "      width: 32px;\n",
              "    }\n",
              "\n",
              "    .colab-df-convert:hover {\n",
              "      background-color: #E2EBFA;\n",
              "      box-shadow: 0px 1px 2px rgba(60, 64, 67, 0.3), 0px 1px 3px 1px rgba(60, 64, 67, 0.15);\n",
              "      fill: #174EA6;\n",
              "    }\n",
              "\n",
              "    [theme=dark] .colab-df-convert {\n",
              "      background-color: #3B4455;\n",
              "      fill: #D2E3FC;\n",
              "    }\n",
              "\n",
              "    [theme=dark] .colab-df-convert:hover {\n",
              "      background-color: #434B5C;\n",
              "      box-shadow: 0px 1px 3px 1px rgba(0, 0, 0, 0.15);\n",
              "      filter: drop-shadow(0px 1px 2px rgba(0, 0, 0, 0.3));\n",
              "      fill: #FFFFFF;\n",
              "    }\n",
              "  </style>\n",
              "\n",
              "      <script>\n",
              "        const buttonEl =\n",
              "          document.querySelector('#df-3487c1ef-3483-4574-b321-e5661f9385d2 button.colab-df-convert');\n",
              "        buttonEl.style.display =\n",
              "          google.colab.kernel.accessAllowed ? 'block' : 'none';\n",
              "\n",
              "        async function convertToInteractive(key) {\n",
              "          const element = document.querySelector('#df-3487c1ef-3483-4574-b321-e5661f9385d2');\n",
              "          const dataTable =\n",
              "            await google.colab.kernel.invokeFunction('convertToInteractive',\n",
              "                                                     [key], {});\n",
              "          if (!dataTable) return;\n",
              "\n",
              "          const docLinkHtml = 'Like what you see? Visit the ' +\n",
              "            '<a target=\"_blank\" href=https://colab.research.google.com/notebooks/data_table.ipynb>data table notebook</a>'\n",
              "            + ' to learn more about interactive tables.';\n",
              "          element.innerHTML = '';\n",
              "          dataTable['output_type'] = 'display_data';\n",
              "          await google.colab.output.renderOutput(dataTable, element);\n",
              "          const docLink = document.createElement('div');\n",
              "          docLink.innerHTML = docLinkHtml;\n",
              "          element.appendChild(docLink);\n",
              "        }\n",
              "      </script>\n",
              "    </div>\n",
              "  </div>\n",
              "  "
            ]
          },
          "metadata": {},
          "execution_count": 7
        }
      ]
    },
    {
      "cell_type": "code",
      "source": [
        "graph = create_graphlet(grouped_df.get_group(16))\n",
        "pos = graphviz_layout(graph, prog=\"dot\")\n",
        "nx.draw_networkx(graph, pos=pos)"
      ],
      "metadata": {
        "colab": {
          "base_uri": "https://localhost:8080/",
          "height": 337
        },
        "id": "zOpFvu4UZCOs",
        "outputId": "6d0d2df5-ff67-4d76-dc02-ec86cbc9099b"
      },
      "execution_count": null,
      "outputs": [
        {
          "output_type": "stream",
          "name": "stderr",
          "text": [
            "<ipython-input-45-b57eeb273240>:2: DeprecationWarning: nx.nx_pydot.graphviz_layout depends on the pydot package, which hasknown issues and is not actively maintained. Consider usingnx.nx_agraph.graphviz_layout instead.\n",
            "\n",
            "See https://github.com/networkx/networkx/issues/5723\n",
            "  pos = graphviz_layout(graph, prog=\"dot\")\n"
          ]
        },
        {
          "output_type": "display_data",
          "data": {
            "text/plain": [
              "<Figure size 432x288 with 1 Axes>"
            ],
            "image/png": "[encoded data removed]"
          },
          "metadata": {}
        }
      ]
    },
    {
      "cell_type": "code",
      "source": [
        "grouped_df.size()"
      ],
      "metadata": {
        "colab": {
          "base_uri": "https://localhost:8080/"
        },
        "id": "UjFeeDlWHmB_",
        "outputId": "7ffa0680-ae50-413c-e119-8792b9b7b088"
      },
      "execution_count": null,
      "outputs": [
        {
          "output_type": "execute_result",
          "data": {
            "text/plain": [
              "src_IP\n",
              "1        8\n",
              "2       10\n",
              "3        9\n",
              "4        8\n",
              "5       13\n",
              "        ..\n",
              "996     13\n",
              "997     13\n",
              "998      9\n",
              "999      9\n",
              "1000     7\n",
              "Length: 1000, dtype: int64"
            ]
          },
          "metadata": {},
          "execution_count": 46
        }
      ]
    },
    {
      "cell_type": "markdown",
      "source": [
        "The focus will now shift to creating a [0,1] column instead of normal/anomaly and the creation of the input array for the SVM"
      ],
      "metadata": {
        "id": "5Ua1rNc9mgjj"
      }
    },
    {
      "cell_type": "code",
      "source": [
        "# Use map function of pandas to create boolean target\n",
        "target_array = input_df['target'].map({\"normal\": 0, \"anomaly\":1})\n",
        "validation_target_array = validation_df['target'].map({\"normal\":0, \"anomaly\":1})"
      ],
      "metadata": {
        "id": "6ruMkFKVmzsr"
      },
      "execution_count": null,
      "outputs": []
    },
    {
      "cell_type": "code",
      "source": [
        "\n",
        "# Create vector of input graphs, the graphs must contain the graphlet of the sourceIP interactions and the information about the single flow\n",
        "# First store all graphlets in dictionary\n",
        "graphlet_dictionary = {}\n",
        "for name, _ in grouped_df:\n",
        "      graphlet_dictionary[name] = create_graphlet(grouped_df.get_group(name))\n",
        "\n",
        "nx.draw_networkx(graphlet_dictionary[16])\n",
        "plt.show()"
      ],
      "metadata": {
        "colab": {
          "base_uri": "https://localhost:8080/",
          "height": 248
        },
        "id": "wvb8xNvJ5CF8",
        "outputId": "355ce89c-e73a-4965-b6ac-272f6ab20be9"
      },
      "execution_count": null,
      "outputs": [
        {
          "output_type": "display_data",
          "data": {
            "text/plain": [
              "<Figure size 432x288 with 1 Axes>"
            ],
            "image/png": "[encoded data removed]"
          },
          "metadata": {}
        }
      ]
    },
    {
      "cell_type": "code",
      "source": [
        "# Now scan through all flows\n",
        "def generate_input_from_flow(in_df):\n",
        "  input_array = []\n",
        "  for index, flow_tuple in in_df.iterrows():\n",
        "    if(index % 500 == 0): print(f\"Creating graphlet number {index}...\")\n",
        "    try:\n",
        "      new_graphlet = graphlet_dictionary[flow_tuple['src_IP']].copy()\n",
        "    except(KeyError):\n",
        "      new_graphlet = nx.DiGraph()\n",
        "    new_graphlet.add_edge(\"s\" + str(flow_tuple['src_IP']), flow_tuple['service'])\n",
        "    new_graphlet.add_edge(flow_tuple['service'], \"d\" + str(flow_tuple['dest_IP']))\n",
        "    new_graphlet.add_edge(\"d\" + str(flow_tuple['dest_IP']), \"pf\" + str(flow_tuple['src_port']))\n",
        "    new_graphlet.add_edge(\"pf\" + str(flow_tuple['src_port']), \"pt\" + str(flow_tuple['dest_port']))\n",
        "    new_graphlet.add_edge(\"pt\" + str(flow_tuple['dest_port']), \"df\" + str(flow_tuple['dest_IP']))\n",
        "    input_array.append(new_graphlet)\n",
        "  return input_array\n",
        "#Call for train and validate\n",
        "train_array = generate_input_from_flow(input_df)\n",
        "validation_array = generate_input_from_flow(validation_df)"
      ],
      "metadata": {
        "colab": {
          "base_uri": "https://localhost:8080/"
        },
        "id": "06XbcmOM5Dm4",
        "outputId": "4c8a3e5a-3f2f-4305-b592-1fd8314d8ae3"
      },
      "execution_count": null,
      "outputs": [
        {
          "output_type": "stream",
          "name": "stdout",
          "text": [
            "Creating graphlet number 0...\n"
          ]
        }
      ]
    },
    {
      "cell_type": "code",
      "source": [
        "len(validation_array)"
      ],
      "metadata": {
        "colab": {
          "base_uri": "https://localhost:8080/"
        },
        "id": "n3qsFMXcQVEv",
        "outputId": "710c59f1-5279-4e91-e139-24c1e4075a7f"
      },
      "execution_count": null,
      "outputs": [
        {
          "output_type": "execute_result",
          "data": {
            "text/plain": [
              "70"
            ]
          },
          "metadata": {},
          "execution_count": 11
        }
      ]
    },
    {
      "cell_type": "code",
      "source": [
        "# Implementation of labeled direct product, not present in networkx library\n",
        "from itertools import product\n",
        "def _dict_product(d1, d2):\n",
        "    return {k: (d1.get(k), d2.get(k)) for k in set(d1) | set(d2)}\n",
        "\n",
        "# Generators for producting graph products\n",
        "def _node_product(G, H):\n",
        "    for u, v in product(G, H):\n",
        "        yield ((u, v), _dict_product(G.nodes[u], H.nodes[v]))\n",
        "\n",
        "\n",
        "def _directed_edges_cross_edges(G, H):\n",
        "    if not G.is_multigraph() and not H.is_multigraph():\n",
        "        for u, v, c in G.edges(data=True):\n",
        "            for x, y, d in H.edges(data=True):\n",
        "                if (u == x and v == y): yield (u, x), (v, y), _dict_product(c, d)\n",
        "    else:\n",
        "      print(\"Multigraphs are not yet supported\")\n",
        "\n",
        "def _init_product_graph(G, H):\n",
        "    if not G.is_directed() == H.is_directed():\n",
        "        msg = \"G and H must be both directed or both undirected\"\n",
        "        raise nx.NetworkXError(msg)\n",
        "    if G.is_multigraph() or H.is_multigraph():\n",
        "        GH = nx.MultiGraph()\n",
        "    else:\n",
        "        GH = nx.Graph()\n",
        "    if G.is_directed():\n",
        "        GH = GH.to_directed()\n",
        "    return GH\n",
        "\n",
        "def labeled_tensor_product(G, H):\n",
        "  GH = _init_product_graph(G, H)\n",
        "  GH.add_nodes_from(_node_product(G, H))\n",
        "  GH.add_edges_from(_directed_edges_cross_edges(G, H))\n",
        "  return GH"
      ],
      "metadata": {
        "id": "a4FQ6H9kaghd"
      },
      "execution_count": null,
      "outputs": []
    },
    {
      "cell_type": "markdown",
      "source": [
        "Now let's create the function which will map a graph onto it's random walk feature vector"
      ],
      "metadata": {
        "id": "xJYAddsPgW3i"
      }
    },
    {
      "cell_type": "markdown",
      "source": [
        "To obtain the number of walks of lenght k between any two nodes we can simply take the power k of the adjacency matrix of our graph $A^k$.\n",
        "Then to obtain a vector a possible approach is to simply vertically stack all the rows or columns of the matrix.\n",
        "However a problem arises: Since to compute the kernel we need to multiply two feature vectors how do we deal with vectors of different size?\n",
        "We could simply pad the vectors with zeros before taking the multiplication,"
      ],
      "metadata": {
        "id": "49ouyvZ6HKKI"
      }
    },
    {
      "cell_type": "code",
      "source": [
        "def generate_rw_vector(G, k=4, decay = 0.3):\n",
        "  adj_matrix = nx.to_numpy_array(G)\n",
        "  sum_matrix = np.zeros(adj_matrix.shape)\n",
        "  for i in range(1,k+1):\n",
        "    sum_matrix += (decay ** (i-1)) * np.linalg.matrix_power(adj_matrix, i)\n",
        "  # Now we reshape\n",
        "  feature_vector = np.reshape(sum_matrix, -1)\n",
        "  return feature_vector\n",
        "\n",
        "def compute_rwk_product(f_vector_one, f_vector_two):\n",
        "  # Pad vectors before taking the dot product\n",
        "  if f_vector_one.shape[0] > f_vector_two.shape[0]: \n",
        "    f_vector_two = np.pad(f_vector_two, (0, f_vector_one.shape[0] - f_vector_two.shape[0]), 'constant', constant_values=(0,0))\n",
        "  else:\n",
        "    f_vector_one = np.pad(f_vector_one, (0, f_vector_two.shape[0] - f_vector_one.shape[0]), 'constant', constant_values=(0,0))\n",
        "\n",
        "  return np.dot(f_vector_one, f_vector_two)"
      ],
      "metadata": {
        "id": "y3s5LW93fS_5"
      },
      "execution_count": null,
      "outputs": []
    },
    {
      "cell_type": "markdown",
      "source": [
        "We transform the directed graph to an undirected graph to increase the number of walks between nodes (otherwise all powers beyond the first two would be matrices of all zeroes)"
      ],
      "metadata": {
        "id": "hdhbltzLSgkr"
      }
    },
    {
      "cell_type": "code",
      "source": [
        "# Let's test the code\n",
        "first_vector = generate_rw_vector(create_graphlet(grouped_df.get_group(16)).to_undirected(), 4)\n",
        "second_vector = generate_rw_vector(create_graphlet(grouped_df.get_group(818)).to_undirected(), 4)\n",
        "print(f\"Size of first vector is: {first_vector.shape}, contains: {first_vector}\")\n",
        "print(f\"Size of 2nd vector is: {second_vector.shape}, contains: {second_vector}\")\n",
        "print(f\"Result of kernel product is: {compute_rwk_product(first_vector, second_vector)}\")"
      ],
      "metadata": {
        "colab": {
          "base_uri": "https://localhost:8080/"
        },
        "id": "VMcqdJgwLp7r",
        "outputId": "59042bcd-6907-4059-a2c8-7359effdeb62"
      },
      "execution_count": null,
      "outputs": [
        {
          "output_type": "stream",
          "name": "stdout",
          "text": [
            "Size of first vector is: (64,), contains: [0.708 1.18  0.    0.    1.18  0.    0.    0.    1.18  0.354 0.    0.\n",
            " 0.354 0.    0.    0.    0.    0.    0.381 1.27  0.    0.381 0.408 0.09\n",
            " 0.    0.    1.27  1.17  0.    1.27  1.36  0.408 1.18  0.354 0.    0.\n",
            " 0.354 0.    0.    0.    0.    0.    0.381 1.27  0.    0.381 0.408 0.09\n",
            " 0.    0.    0.408 1.36  0.    0.408 0.762 1.18  0.    0.    0.09  0.408\n",
            " 0.    0.09  1.18  0.354]\n",
            "Size of 2nd vector is: (81,), contains: [0.708 1.18  0.    0.    0.    0.    1.18  0.    0.    1.18  0.354 0.\n",
            " 0.    0.    0.    0.354 0.    0.    0.    0.    0.381 1.27  0.18  0.435\n",
            " 0.    0.    0.435 0.    0.    1.27  1.251 0.87  1.45  0.    0.    1.45\n",
            " 0.    0.    0.18  0.87  0.816 1.36  0.    0.    1.36  0.    0.    0.435\n",
            " 1.45  1.36  0.843 0.    0.    0.843 1.18  0.354 0.    0.    0.    0.\n",
            " 0.354 0.    0.    0.    0.    0.    0.    0.    0.    0.    0.    0.\n",
            " 0.    0.    0.435 1.45  1.36  0.843 0.    0.    0.843]\n",
            "Result of kernel product is: 10.884432\n"
          ]
        }
      ]
    },
    {
      "cell_type": "markdown",
      "source": [
        "We can compute all of the feature vectors and then check which is the vector with the largest size, then pad all other vectors with zeroes to match the size of the biggest one:"
      ],
      "metadata": {
        "id": "sTf-C9Cd3Lut"
      }
    },
    {
      "cell_type": "code",
      "source": [
        "feature_vectors = []\n",
        "homogeneous_f_vectors = []\n",
        "max_size = 400\n",
        "big_train_array = generate_input_from_flow(big_input_df)\n",
        "big_validation_array = generate_input_from_flow(big_validation_df)\n",
        "big_target_array = big_input_df['target'].map({\"normal\": 0, \"anomaly\":1})\n",
        "big_validation_target_array = big_validation_df['target'].map({\"normal\":0, \"anomaly\":1})\n",
        "for graph in big_train_array:\n",
        "  vector = generate_rw_vector(graph, k=4)\n",
        "  feature_vectors.append(vector)\n",
        "  if len(vector) > max_size: max_size = len(vector)\n",
        "\n",
        "print(f\"Largest size is: {max_size}\")\n",
        "\n",
        "for f_vector in feature_vectors:\n",
        "  homogeneous_f_vectors.append(np.pad(f_vector, (0, max_size - len(f_vector)), 'constant', constant_values=(0,0)))"
      ],
      "metadata": {
        "colab": {
          "base_uri": "https://localhost:8080/"
        },
        "id": "iEeYUcYr3da0",
        "outputId": "2a905982-7888-4531-de91-aa65983ed3da"
      },
      "execution_count": null,
      "outputs": [
        {
          "output_type": "stream",
          "name": "stdout",
          "text": [
            "Creating graphlet number 0...\n",
            "Creating graphlet number 500...\n",
            "Creating graphlet number 1000...\n",
            "Largest size is: 400\n"
          ]
        }
      ]
    },
    {
      "cell_type": "code",
      "source": [
        "classifier = svm.SVC(kernel=\"rbf\")\n",
        "classifier.fit(homogeneous_f_vectors, big_target_array)"
      ],
      "metadata": {
        "colab": {
          "base_uri": "https://localhost:8080/"
        },
        "id": "roAjdpT84_er",
        "outputId": "d49ae6aa-c01e-4083-ded7-eaff6e254a65"
      },
      "execution_count": null,
      "outputs": [
        {
          "output_type": "execute_result",
          "data": {
            "text/plain": [
              "SVC()"
            ]
          },
          "metadata": {},
          "execution_count": 37
        }
      ]
    },
    {
      "cell_type": "markdown",
      "source": [
        "Now let's test the trained model:"
      ],
      "metadata": {
        "id": "DduAuezR7wyO"
      }
    },
    {
      "cell_type": "code",
      "source": [
        "max_size = 400\n",
        "val_homogeneous_f_vectors = []\n",
        "val_feature_vectors = []\n",
        "for graph in big_validation_array:\n",
        "  vector = generate_rw_vector(graph, k=4)\n",
        "  val_feature_vectors.append(vector)\n",
        "  if len(vector) > max_size: max_size = len(vector)\n",
        "\n",
        "print(f\"Largest size is: {max_size}\")\n",
        "\n",
        "for f_vector in val_feature_vectors:\n",
        "  val_homogeneous_f_vectors.append(np.pad(f_vector, (0, max_size - len(f_vector)), 'constant', constant_values=(0,0)))"
      ],
      "metadata": {
        "colab": {
          "base_uri": "https://localhost:8080/"
        },
        "id": "7KWAj4Qd7zVW",
        "outputId": "29738efa-5438-4d95-aa36-c084b3745ef8"
      },
      "execution_count": null,
      "outputs": [
        {
          "output_type": "stream",
          "name": "stdout",
          "text": [
            "Largest size is: 400\n"
          ]
        }
      ]
    },
    {
      "cell_type": "code",
      "source": [
        "classifier.score(val_homogeneous_f_vectors, big_validation_target_array)"
      ],
      "metadata": {
        "colab": {
          "base_uri": "https://localhost:8080/"
        },
        "id": "cbXblNdF8lhP",
        "outputId": "7c72e556-d65c-441c-e126-23a58c53d1b9"
      },
      "execution_count": null,
      "outputs": [
        {
          "output_type": "execute_result",
          "data": {
            "text/plain": [
              "0.9136363636363637"
            ]
          },
          "metadata": {},
          "execution_count": 41
        }
      ]
    },
    {
      "cell_type": "code",
      "source": [
        "classifier.predict(val_homogeneous_f_vectors)"
      ],
      "metadata": {
        "colab": {
          "base_uri": "https://localhost:8080/"
        },
        "id": "HcU5Upib9nbE",
        "outputId": "1b957e63-523b-425d-bc37-00be21d571b9"
      },
      "execution_count": null,
      "outputs": [
        {
          "output_type": "execute_result",
          "data": {
            "text/plain": [
              "array([0, 0, 0, 0, 0, 0, 0, 0, 0, 0, 0, 0, 0, 0, 0, 0, 0, 0, 0, 0, 0, 0,\n",
              "       0, 0, 0, 0, 0, 0, 0, 0, 0, 0, 0, 0, 0, 0, 0, 0, 0, 0, 0, 0, 0, 0,\n",
              "       0, 0, 0, 0, 0, 0, 0, 0, 0, 0, 0, 0, 0, 0, 0, 0, 0, 0, 0, 0, 0, 0,\n",
              "       0, 0, 0, 0, 0, 0, 0, 0, 0, 0, 0, 0, 0, 0, 0, 0, 0, 0, 0, 0, 0, 0,\n",
              "       0, 0, 0, 0, 0, 0, 0, 0, 0, 0, 0, 0, 0, 0, 0, 0, 0, 0, 0, 0, 0, 0,\n",
              "       0, 0, 0, 0, 0, 0, 0, 0, 0, 0, 0, 0, 0, 0, 0, 0, 0, 0, 0, 0, 0, 0,\n",
              "       0, 0, 0, 0, 0, 0, 0, 0, 0, 0, 0, 0, 0, 0, 0, 0, 0, 0, 0, 0, 0, 0,\n",
              "       0, 0, 0, 0, 0, 0, 0, 0, 0, 0, 0, 0, 0, 0, 0, 0, 0, 0, 0, 0, 0, 0,\n",
              "       0, 0, 0, 0, 0, 0, 0, 0, 0, 0, 0, 0, 0, 0, 0, 0, 0, 0, 0, 0, 0, 0,\n",
              "       0, 0, 0, 0, 0, 0, 0, 0, 0, 0, 0, 0, 0, 0, 0, 0, 0, 0, 0, 0, 0, 1])"
            ]
          },
          "metadata": {},
          "execution_count": 42
        }
      ]
    },
    {
      "cell_type": "markdown",
      "source": [
        "We can observe how only a single anomaly was correctly detected, this could be either because of the unbalance of the training set or due to the too high dimensionality of feature vectors. We are using 400 dimensional feature vectors but train the model only on 50 anomaly samples, this is clearly a problem since it's hard to find a good boundary in the 400d space with such a limited sample size."
      ],
      "metadata": {
        "id": "6X34854f9sa9"
      }
    },
    {
      "cell_type": "markdown",
      "source": [
        "Finally let's use the kernel trick to compute the similarity between two graphs:"
      ],
      "metadata": {
        "id": "QD6jNx1GewL3"
      }
    },
    {
      "cell_type": "code",
      "source": [
        "from networkx.linalg.graphmatrix import adjacency_matrix\n",
        "\n",
        "def random_walk_kernel(G, H, decay_lambda=0.3):\n",
        "  # Takes two graphs as input G and H and returns the RWK function\n",
        "  product_graph = labeled_tensor_product(G, H)\n",
        "  adj_matrix = nx.to_numpy_array(product_graph)\n",
        "  if(adj_matrix.shape[0] == adj_matrix.shape[1]): \n",
        "    size = adj_matrix.shape[0]\n",
        "    # print(f\"Size of adjacency matrix is {size}\")\n",
        "  e_vector = np.ones(size)\n",
        "  return e_vector.T.dot(np.linalg.inv(np.identity(size)-decay_lambda * adj_matrix)).dot(e_vector)\n",
        "\n",
        "def vectorized_rwk(vec_G, vec_H):\n",
        "  Gram_matrix = np.zeros((len(vec_G), len(vec_H)))\n",
        "  update_size = len(vec_G) / 20.0\n",
        "  for index_row, G in enumerate(vec_G):\n",
        "    if(index_row % update_size == 0): print(f\"Processed {5 * (index_row // update_size)}% of the data points\")\n",
        "    for index_col, H in enumerate(vec_H):\n",
        "      Gram_matrix[index_row][index_col] = random_walk_kernel(G,H)\n",
        "  return Gram_matrix"
      ],
      "metadata": {
        "id": "J7ycMzSje2M_"
      },
      "execution_count": null,
      "outputs": []
    },
    {
      "cell_type": "code",
      "source": [
        "# Compute labeled direct product on two random graphs\n",
        "graph_one = graphlet_dictionary[16]\n",
        "graph_two = graphlet_dictionary[818]\n",
        "random_walk_kernel(graph_one, graph_two)"
      ],
      "metadata": {
        "colab": {
          "base_uri": "https://localhost:8080/"
        },
        "id": "HKiP_Z-RbvXt",
        "outputId": "ae47c45b-4850-41b2-982e-0e4571a0bad2"
      },
      "execution_count": null,
      "outputs": [
        {
          "output_type": "execute_result",
          "data": {
            "text/plain": [
              "72.0"
            ]
          },
          "metadata": {},
          "execution_count": 47
        }
      ]
    },
    {
      "cell_type": "code",
      "source": [
        "# Fit the SVM on the training data\n",
        "classifier = svm.SVC(kernel=\"precomputed\")\n",
        "train_kernel = vectorized_rwk(train_array,train_array)\n",
        "classifier.fit(train_kernel, target_array)"
      ],
      "metadata": {
        "colab": {
          "base_uri": "https://localhost:8080/"
        },
        "id": "7kejnyLZlh3E",
        "outputId": "61df7075-4d16-41c1-b628-3eb00994f759"
      },
      "execution_count": null,
      "outputs": [
        {
          "output_type": "stream",
          "name": "stdout",
          "text": [
            "Processed 0.0% of the data points\n",
            "Processed 5.0% of the data points\n",
            "Processed 10.0% of the data points\n",
            "Processed 15.0% of the data points\n",
            "Processed 20.0% of the data points\n",
            "Processed 25.0% of the data points\n",
            "Processed 30.0% of the data points\n",
            "Processed 35.0% of the data points\n",
            "Processed 40.0% of the data points\n",
            "Processed 45.0% of the data points\n",
            "Processed 50.0% of the data points\n",
            "Processed 55.0% of the data points\n",
            "Processed 60.0% of the data points\n",
            "Processed 65.0% of the data points\n",
            "Processed 70.0% of the data points\n",
            "Processed 75.0% of the data points\n",
            "Processed 80.0% of the data points\n",
            "Processed 85.0% of the data points\n",
            "Processed 90.0% of the data points\n",
            "Processed 95.0% of the data points\n"
          ]
        },
        {
          "output_type": "execute_result",
          "data": {
            "text/plain": [
              "SVC(kernel='precomputed')"
            ]
          },
          "metadata": {},
          "execution_count": 129
        }
      ]
    },
    {
      "cell_type": "code",
      "source": [
        "# Validate our SVM on the validation set\n",
        "validation_kernel = vectorized_rwk(validation_array, train_array)"
      ],
      "metadata": {
        "colab": {
          "base_uri": "https://localhost:8080/"
        },
        "id": "hr6AM15HLzd6",
        "outputId": "a512f63e-e452-4db7-9b76-c9594526e49b"
      },
      "execution_count": null,
      "outputs": [
        {
          "output_type": "stream",
          "name": "stdout",
          "text": [
            "Processed 0.0% of the data points\n",
            "Processed 10.0% of the data points\n",
            "Processed 20.0% of the data points\n",
            "Processed 30.0% of the data points\n",
            "Processed 40.0% of the data points\n",
            "Processed 50.0% of the data points\n",
            "Processed 60.0% of the data points\n",
            "Processed 70.0% of the data points\n",
            "Processed 80.0% of the data points\n",
            "Processed 90.0% of the data points\n"
          ]
        },
        {
          "output_type": "execute_result",
          "data": {
            "text/plain": [
              "array([0, 0, 0, 0, 0, 0, 0, 0, 0, 0, 0, 0, 0, 0, 0, 0, 0, 0, 0, 0, 0, 0,\n",
              "       0, 0, 0, 0, 0, 0, 0, 0, 0, 0, 0, 0, 0, 0, 0, 0, 0, 0, 0, 0, 0, 0,\n",
              "       0, 0, 0, 0, 0, 0, 1, 1, 1, 1, 1, 1, 1, 1, 1, 1, 1, 1, 1, 1, 1, 1,\n",
              "       1, 1, 1, 1])"
            ]
          },
          "metadata": {},
          "execution_count": 130
        }
      ]
    },
    {
      "cell_type": "code",
      "source": [
        "classifier.score(validation_kernel, validation_target_array)"
      ],
      "metadata": {
        "colab": {
          "base_uri": "https://localhost:8080/"
        },
        "id": "moR4DYjDd5sv",
        "outputId": "32e0fc99-5ddf-4095-a9c6-feccc3ced6b4"
      },
      "execution_count": null,
      "outputs": [
        {
          "output_type": "execute_result",
          "data": {
            "text/plain": [
              "1.0"
            ]
          },
          "metadata": {},
          "execution_count": 131
        }
      ]
    },
    {
      "cell_type": "markdown",
      "source": [
        "We can observe how all anomalies are identified corrently even with a limited training set of only 200 flows. Let's now predict the part of the test set and check the results:"
      ],
      "metadata": {
        "id": "VHR35kPxd7W4"
      }
    },
    {
      "cell_type": "code",
      "source": [
        "# Use the first 200 test samples\n",
        "test_array = generate_input_from_flow(test_df.iloc[:200,:])\n",
        "test_kernel = vectorized_rwk(test_array, train_array)"
      ],
      "metadata": {
        "colab": {
          "base_uri": "https://localhost:8080/"
        },
        "id": "K03B_fQ1eUOx",
        "outputId": "f9ddce29-fa16-47fd-eab8-65d5947e6834"
      },
      "execution_count": null,
      "outputs": [
        {
          "output_type": "stream",
          "name": "stdout",
          "text": [
            "Creating graphlet number 0...\n",
            "Processed 0.0% of the data points\n",
            "Processed 5.0% of the data points\n",
            "Processed 10.0% of the data points\n",
            "Processed 15.0% of the data points\n",
            "Processed 20.0% of the data points\n",
            "Processed 25.0% of the data points\n",
            "Processed 30.0% of the data points\n",
            "Processed 35.0% of the data points\n",
            "Processed 40.0% of the data points\n",
            "Processed 45.0% of the data points\n",
            "Processed 50.0% of the data points\n",
            "Processed 55.0% of the data points\n",
            "Processed 60.0% of the data points\n",
            "Processed 65.0% of the data points\n",
            "Processed 70.0% of the data points\n",
            "Processed 75.0% of the data points\n",
            "Processed 80.0% of the data points\n",
            "Processed 85.0% of the data points\n",
            "Processed 90.0% of the data points\n",
            "Processed 95.0% of the data points\n"
          ]
        }
      ]
    },
    {
      "cell_type": "code",
      "source": [
        "predictions_array = classifier.predict(test_kernel)\n",
        "predictions_array"
      ],
      "metadata": {
        "colab": {
          "base_uri": "https://localhost:8080/"
        },
        "id": "I-N6s-PJfkDm",
        "outputId": "aa3d48fa-fa29-44c2-bc28-27ca88926e26"
      },
      "execution_count": null,
      "outputs": [
        {
          "output_type": "execute_result",
          "data": {
            "text/plain": [
              "array([0, 0, 0, 0, 0, 0, 0, 0, 0, 0, 0, 0, 0, 0, 0, 0, 0, 0, 0, 0, 0, 0,\n",
              "       0, 0, 0, 0, 0, 0, 0, 0, 0, 0, 0, 0, 0, 0, 0, 0, 0, 0, 0, 0, 0, 0,\n",
              "       0, 0, 0, 0, 0, 0, 0, 0, 0, 0, 0, 0, 0, 0, 1, 0, 0, 0, 0, 0, 0, 0,\n",
              "       0, 0, 0, 0, 0, 0, 0, 0, 0, 0, 0, 0, 0, 0, 0, 0, 0, 0, 0, 0, 0, 0,\n",
              "       0, 0, 0, 0, 0, 0, 0, 0, 0, 0, 0, 0, 0, 0, 0, 0, 0, 0, 0, 0, 0, 0,\n",
              "       0, 0, 0, 0, 0, 0, 0, 0, 0, 0, 0, 0, 0, 0, 0, 0, 0, 0, 0, 0, 0, 0,\n",
              "       0, 0, 0, 0, 0, 0, 0, 0, 0, 0, 0, 0, 0, 0, 0, 0, 0, 0, 0, 0, 0, 0,\n",
              "       0, 0, 0, 0, 0, 0, 0, 0, 0, 0, 0, 0, 0, 0, 0, 0, 0, 0, 0, 0, 0, 0,\n",
              "       0, 0, 0, 0, 0, 0, 0, 0, 0, 0, 0, 0, 0, 0, 0, 0, 0, 0, 0, 0, 0, 0,\n",
              "       0, 0])"
            ]
          },
          "metadata": {},
          "execution_count": 135
        }
      ]
    },
    {
      "cell_type": "markdown",
      "source": [
        "In the first 200 samples we find one candidate anomaly, let's investigate:"
      ],
      "metadata": {
        "id": "rEwc2Nb2f97J"
      }
    },
    {
      "cell_type": "code",
      "source": [
        "np.where(predictions_array == 1)"
      ],
      "metadata": {
        "colab": {
          "base_uri": "https://localhost:8080/"
        },
        "id": "8aUhF5AbgPuS",
        "outputId": "834da0aa-6a94-42d4-ffb7-00957229a4d4"
      },
      "execution_count": null,
      "outputs": [
        {
          "output_type": "execute_result",
          "data": {
            "text/plain": [
              "(array([58]),)"
            ]
          },
          "metadata": {},
          "execution_count": 137
        }
      ]
    },
    {
      "cell_type": "markdown",
      "source": [
        "The anomaly is at index 58, let's open it from the DataFrame:"
      ],
      "metadata": {
        "id": "S92OykARhA6b"
      }
    },
    {
      "cell_type": "code",
      "source": [
        "test_df.iloc[58]"
      ],
      "metadata": {
        "colab": {
          "base_uri": "https://localhost:8080/"
        },
        "id": "apOV-PV4hLLz",
        "outputId": "9573b963-aac0-4ddb-b0a8-93bf5d47efe4"
      },
      "execution_count": null,
      "outputs": [
        {
          "output_type": "execute_result",
          "data": {
            "text/plain": [
              "src_IP       982\n",
              "dest_IP        7\n",
              "service       17\n",
              "src_port      23\n",
              "dest_port     53\n",
              "Name: 58, dtype: int64"
            ]
          },
          "metadata": {},
          "execution_count": 139
        }
      ]
    },
    {
      "cell_type": "markdown",
      "source": [
        "And let's check the activity graph of IP 982:"
      ],
      "metadata": {
        "id": "WzkM0ETRhep9"
      }
    },
    {
      "cell_type": "code",
      "source": [
        "grouped_df = annotated_df.groupby(by=\"src_IP\")\n",
        "graph = create_graphlet(grouped_df.get_group(982), dense = True)\n",
        "pos = graphviz_layout(graph, prog=\"dot\")\n",
        "nx.draw_networkx(graph, pos=pos)"
      ],
      "metadata": {
        "colab": {
          "base_uri": "https://localhost:8080/",
          "height": 337
        },
        "id": "IVA6q7g4hpa6",
        "outputId": "9a5966de-4bd6-4290-abc3-05244cfb6435"
      },
      "execution_count": null,
      "outputs": [
        {
          "output_type": "stream",
          "name": "stderr",
          "text": [
            "<ipython-input-142-626b4dff717c>:3: DeprecationWarning: nx.nx_pydot.graphviz_layout depends on the pydot package, which hasknown issues and is not actively maintained. Consider usingnx.nx_agraph.graphviz_layout instead.\n",
            "\n",
            "See https://github.com/networkx/networkx/issues/5723\n",
            "  pos = graphviz_layout(graph, prog=\"dot\")\n"
          ]
        },
        {
          "output_type": "display_data",
          "data": {
            "text/plain": [
              "<Figure size 432x288 with 1 Axes>"
            ],
            "image/png": "[encoded data removed]"
          },
          "metadata": {}
        }
      ]
    },
    {
      "cell_type": "markdown",
      "source": [
        "This is the activity graph during the training phase, let's compare it to the activity graph in the testing phase"
      ],
      "metadata": {
        "id": "5Sf_w5tFidLM"
      }
    },
    {
      "cell_type": "code",
      "source": [
        "grouped_df = test_df.groupby(by=\"src_IP\")\n",
        "graph = create_graphlet(grouped_df.get_group(982), dense = True)\n",
        "pos = graphviz_layout(graph, prog=\"dot\")\n",
        "nx.draw_networkx(graph, pos=pos)"
      ],
      "metadata": {
        "colab": {
          "base_uri": "https://localhost:8080/",
          "height": 337
        },
        "id": "5mwBiAj0iowZ",
        "outputId": "a48d512f-d665-45fc-ebb2-36ebbd886de1"
      },
      "execution_count": null,
      "outputs": [
        {
          "output_type": "stream",
          "name": "stderr",
          "text": [
            "<ipython-input-143-a280c58ea18c>:3: DeprecationWarning: nx.nx_pydot.graphviz_layout depends on the pydot package, which hasknown issues and is not actively maintained. Consider usingnx.nx_agraph.graphviz_layout instead.\n",
            "\n",
            "See https://github.com/networkx/networkx/issues/5723\n",
            "  pos = graphviz_layout(graph, prog=\"dot\")\n"
          ]
        },
        {
          "output_type": "display_data",
          "data": {
            "text/plain": [
              "<Figure size 432x288 with 1 Axes>"
            ],
            "image/png": "[encoded data removed]"
          },
          "metadata": {}
        }
      ]
    },
    {
      "cell_type": "markdown",
      "source": [
        "We can clearly observe a difference in behaviour, particularly the number of unique IPs the host is contacting. Relevant target ports used are: 80 (HTTP), 53 (DNS), 25 (SMTP), 22 (SSH), 23(TelNet), 443 (HTTPS)To further analyze the communications it would be interesting to check an activity graph which contains 982 as the target for communication."
      ],
      "metadata": {
        "id": "J2ESSCz5iyCN"
      }
    },
    {
      "cell_type": "code",
      "source": [
        "grouped_df = test_df.groupby(by=\"dest_IP\")\n",
        "graph = create_graphlet(grouped_df.get_group(982), dense = True)\n",
        "pos = graphviz_layout(graph, prog=\"dot\")\n",
        "nx.draw_networkx(graph, pos=pos)"
      ],
      "metadata": {
        "colab": {
          "base_uri": "https://localhost:8080/",
          "height": 337
        },
        "id": "8GXLAzzZlA6Q",
        "outputId": "9bd311da-016f-4f97-d934-e2dbe209d0d1"
      },
      "execution_count": null,
      "outputs": [
        {
          "output_type": "stream",
          "name": "stderr",
          "text": [
            "<ipython-input-144-89ea89f1fdd5>:3: DeprecationWarning: nx.nx_pydot.graphviz_layout depends on the pydot package, which hasknown issues and is not actively maintained. Consider usingnx.nx_agraph.graphviz_layout instead.\n",
            "\n",
            "See https://github.com/networkx/networkx/issues/5723\n",
            "  pos = graphviz_layout(graph, prog=\"dot\")\n"
          ]
        },
        {
          "output_type": "display_data",
          "data": {
            "text/plain": [
              "<Figure size 432x288 with 1 Axes>"
            ],
            "image/png": "[encoded data removed]"
          },
          "metadata": {}
        }
      ]
    },
    {
      "cell_type": "code",
      "source": [
        "grouped_df = annotated_df.groupby(by=\"dest_IP\")\n",
        "graph = create_graphlet(grouped_df.get_group(982), dense = True)\n",
        "pos = graphviz_layout(graph, prog=\"dot\")\n",
        "nx.draw_networkx(graph, pos=pos)"
      ],
      "metadata": {
        "colab": {
          "base_uri": "https://localhost:8080/",
          "height": 337
        },
        "id": "2OuGJmAXlJw5",
        "outputId": "8f7d9e28-5821-4074-a19f-255245f1219c"
      },
      "execution_count": null,
      "outputs": [
        {
          "output_type": "stream",
          "name": "stderr",
          "text": [
            "<ipython-input-145-e6187cc61663>:3: DeprecationWarning: nx.nx_pydot.graphviz_layout depends on the pydot package, which hasknown issues and is not actively maintained. Consider usingnx.nx_agraph.graphviz_layout instead.\n",
            "\n",
            "See https://github.com/networkx/networkx/issues/5723\n",
            "  pos = graphviz_layout(graph, prog=\"dot\")\n"
          ]
        },
        {
          "output_type": "display_data",
          "data": {
            "text/plain": [
              "<Figure size 432x288 with 1 Axes>"
            ],
            "image/png": "[encoded data removed]"
          },
          "metadata": {}
        }
      ]
    },
    {
      "cell_type": "markdown",
      "source": [
        "Nothing stands out in this other graph, a guess as to why this flow was labeled anomalous could be the unexpected traffic, and ports seem to suggest this could be a router handling HTTP/HTTPS and DNS requests.\n",
        "We could compare the topology with the ones presented in the BLINC paper[1] but the graphlet does not resemble any attack pattern. In general having the flow flagged by the model does not guarantee that the prediction is correct, moreover due to resource and dataset balance constraint this model was trained on a small dataset (200 samples) meaning the results might significantly improve with more data. Also anomaly does not necessarily imply an attack is happening, in this case for example there is no clear attack happening, the increased volume might have caused a different distribution in the flows causing the system to identify it as anomalous."
      ],
      "metadata": {
        "id": "0yQ5pYuqle3v"
      }
    },
    {
      "cell_type": "markdown",
      "source": [
        "# References"
      ],
      "metadata": {
        "id": "M9sQGTVp39W-"
      }
    },
    {
      "cell_type": "markdown",
      "source": [
        "[1] BLINC: Multilevel Traffic Classification in the Dark, T. Karagiannis K. Papagiannaki, M. Faloutsos, ACM SIGCOMM Computer Communication Review, Volume 35, Issue 4, October 2005"
      ],
      "metadata": {
        "id": "0qoPRQmR4EtC"
      }
    }
  ]
}
